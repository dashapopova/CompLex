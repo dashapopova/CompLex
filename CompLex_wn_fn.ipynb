{
 "cells": [
  {
   "cell_type": "markdown",
   "metadata": {},
   "source": [
    "# WordNet"
   ]
  },
  {
   "cell_type": "markdown",
   "metadata": {},
   "source": [
    "### Полезные ссылки: <br>\n",
    "Главный сайт проекта: https://wordnet.princeton.edu/ <br>\n",
    "WordNet через nltk: http://www.nltk.org/howto/wordnet.html"
   ]
  },
  {
   "cell_type": "code",
   "execution_count": 1,
   "metadata": {
    "collapsed": false
   },
   "outputs": [
    {
     "name": "stdout",
     "output_type": "stream",
     "text": [
      "[nltk_data] Downloading package wordnet to\n",
      "[nltk_data]     C:\\Users\\ДР\\AppData\\Roaming\\nltk_data...\n",
      "[nltk_data]   Package wordnet is already up-to-date!\n"
     ]
    },
    {
     "data": {
      "text/plain": [
       "True"
      ]
     },
     "execution_count": 1,
     "metadata": {},
     "output_type": "execute_result"
    }
   ],
   "source": [
    "import nltk\n",
    "nltk.download('wordnet')"
   ]
  },
  {
   "cell_type": "code",
   "execution_count": 1,
   "metadata": {
    "collapsed": true
   },
   "outputs": [],
   "source": [
    "from nltk.corpus import wordnet as wn"
   ]
  },
  {
   "cell_type": "markdown",
   "metadata": {},
   "source": [
    "Ищем все синсеты, в которых есть подстрока \"dog\":"
   ]
  },
  {
   "cell_type": "code",
   "execution_count": 4,
   "metadata": {
    "collapsed": false
   },
   "outputs": [
    {
     "name": "stdout",
     "output_type": "stream",
     "text": [
      "[Synset('dog.n.01'), Synset('frump.n.01'), Synset('dog.n.03'), Synset('cad.n.01'), Synset('frank.n.02'), Synset('pawl.n.01'), Synset('andiron.n.01'), Synset('chase.v.01')]\n"
     ]
    }
   ],
   "source": [
    "dog_synsets = wn.synsets('dog')\n",
    "print (dog_synsets)"
   ]
  },
  {
   "cell_type": "markdown",
   "metadata": {},
   "source": [
    "Можно уточнить, какие именно части речи нас интересуют. Возможные варианты: NOUN, ADJ, ADV, VERB"
   ]
  },
  {
   "cell_type": "code",
   "execution_count": 4,
   "metadata": {
    "collapsed": false
   },
   "outputs": [
    {
     "name": "stdout",
     "output_type": "stream",
     "text": [
      "[Synset('dog.n.01'), Synset('frump.n.01'), Synset('dog.n.03'), Synset('cad.n.01'), Synset('frank.n.02'), Synset('pawl.n.01'), Synset('andiron.n.01')]\n"
     ]
    }
   ],
   "source": [
    "dog_noun_synsets = wn.synsets('dog', pos=wn.NOUN)\n",
    "print (dog_noun_synsets)"
   ]
  },
  {
   "cell_type": "markdown",
   "metadata": {},
   "source": [
    "Доступ ко всем синсетам и ко всем словам:"
   ]
  },
  {
   "cell_type": "code",
   "execution_count": 31,
   "metadata": {
    "collapsed": false
   },
   "outputs": [
    {
     "name": "stdout",
     "output_type": "stream",
     "text": [
      "117659\n",
      "13767\n",
      "21479\n"
     ]
    }
   ],
   "source": [
    "print (len(list(wn.all_synsets())))\n",
    "print (len(list(wn.all_synsets('v'))))\n",
    "print (len(list(wn.all_lemma_names('a'))))"
   ]
  },
  {
   "cell_type": "markdown",
   "metadata": {},
   "source": [
    "Про синсет мы можем узнать: его имя (ID синсета), определение, ID относящихся к нему лемм, сами леммы; посмотреть примеры (если они есть) "
   ]
  },
  {
   "cell_type": "code",
   "execution_count": 14,
   "metadata": {
    "collapsed": false
   },
   "outputs": [
    {
     "name": "stdout",
     "output_type": "stream",
     "text": [
      "dog.n.01 a member of the genus Canis (probably descended from the common wolf) that has been domesticated by man since prehistoric times; occurs in many breeds [Lemma('dog.n.01.dog'), Lemma('dog.n.01.domestic_dog'), Lemma('dog.n.01.Canis_familiaris')] ['dog', 'domestic_dog', 'Canis_familiaris'] ['the dog barked all night']\n"
     ]
    }
   ],
   "source": [
    "dog_exemplar = wn.synset('dog.n.01')\n",
    "print (dog_exemplar.name(), dog_exemplar.definition(), dog_exemplar.lemmas(), dog_exemplar.lemma_names(),\n",
    "       dog_exemplar.examples())"
   ]
  },
  {
   "cell_type": "markdown",
   "metadata": {
    "collapsed": true
   },
   "source": [
    "Отношения между синсетами"
   ]
  },
  {
   "cell_type": "code",
   "execution_count": 10,
   "metadata": {
    "collapsed": false
   },
   "outputs": [
    {
     "name": "stdout",
     "output_type": "stream",
     "text": [
      "[Synset('basenji.n.01'), Synset('corgi.n.01'), Synset('cur.n.01'), Synset('dalmatian.n.02'), Synset('great_pyrenees.n.01'), Synset('griffon.n.02'), Synset('hunting_dog.n.01'), Synset('lapdog.n.01'), Synset('leonberg.n.01'), Synset('mexican_hairless.n.01'), Synset('newfoundland.n.01'), Synset('pooch.n.01'), Synset('poodle.n.01'), Synset('pug.n.01'), Synset('puppy.n.01'), Synset('spitz.n.01'), Synset('toy_dog.n.01'), Synset('working_dog.n.01')]\n",
      "[Synset('canine.n.02'), Synset('domestic_animal.n.01')]\n",
      "[Synset('entity.n.01')]\n",
      "[Synset('canis.n.01'), Synset('pack.n.06')]\n",
      "[]\n",
      "[]\n"
     ]
    }
   ],
   "source": [
    "print (dog_exemplar.hyponyms())\n",
    "print (dog_exemplar.hypernyms())\n",
    "print (dog_exemplar.root_hypernyms())\n",
    "print (dog_exemplar.member_holonyms())\n",
    "print (dog_exemplar.member_meronyms())\n",
    "print (dog_exemplar.similar_tos())"
   ]
  },
  {
   "cell_type": "markdown",
   "metadata": {},
   "source": [
    "Ближайший общий гипероним"
   ]
  },
  {
   "cell_type": "code",
   "execution_count": 11,
   "metadata": {
    "collapsed": false
   },
   "outputs": [
    {
     "name": "stdout",
     "output_type": "stream",
     "text": [
      "[Synset('organism.n.01')]\n"
     ]
    }
   ],
   "source": [
    "print(wn.synset('person.n.01').lowest_common_hypernyms(wn.synset('dog.n.01')))"
   ]
  },
  {
   "cell_type": "markdown",
   "metadata": {},
   "source": [
    "Расстояние между синсетами: <br>\n",
    "path_similarity - оценивает расстояние по кратчайшему пути между синсетами. <br>\n",
    "Значение - от 0 до 1, где 1 - максимальная степень близости."
   ]
  },
  {
   "cell_type": "code",
   "execution_count": 13,
   "metadata": {
    "collapsed": false
   },
   "outputs": [
    {
     "name": "stdout",
     "output_type": "stream",
     "text": [
      "0.2\n",
      "0.1\n",
      "1.0\n"
     ]
    }
   ],
   "source": [
    "print(wn.synset('dog.n.01').path_similarity(wn.synset('cat.n.01')))\n",
    "print(wn.synset('person.n.01').path_similarity(wn.synset('cat.n.01')))\n",
    "print(wn.synset('dog.n.01').path_similarity(wn.synset('dog.n.01')))"
   ]
  },
  {
   "cell_type": "markdown",
   "metadata": {},
   "source": [
    "Деривационные отношения и отношение антонимии определены только для лемм:"
   ]
  },
  {
   "cell_type": "code",
   "execution_count": 7,
   "metadata": {
    "collapsed": false
   },
   "outputs": [
    {
     "name": "stdout",
     "output_type": "stream",
     "text": [
      "Lemma('personal.n.01.personal')\n",
      "Pertainyms: []\n",
      "Antonyms: []\n",
      "Derivationally related forms: []\n",
      "Lemma('personal.a.01.personal')\n",
      "Pertainyms: []\n",
      "Antonyms: [Lemma('impersonal.a.01.impersonal')]\n",
      "Derivationally related forms: []\n",
      "Lemma('personal.s.02.personal')\n",
      "Pertainyms: []\n",
      "Antonyms: []\n",
      "Derivationally related forms: []\n",
      "Lemma('personal.a.03.personal')\n",
      "Pertainyms: [Lemma('personality.n.01.personality')]\n",
      "Antonyms: []\n",
      "Derivationally related forms: [Lemma('personality.n.01.personality')]\n",
      "Lemma('personal.s.04.personal')\n",
      "Pertainyms: []\n",
      "Antonyms: []\n",
      "Derivationally related forms: []\n",
      "Lemma('personal.a.05.personal')\n",
      "Pertainyms: [Lemma('person.n.03.person')]\n",
      "Antonyms: []\n",
      "Derivationally related forms: []\n"
     ]
    }
   ],
   "source": [
    "for lemma in wn.lemmas('personal'):\n",
    "    print (lemma)\n",
    "    print ('Pertainyms:', lemma.pertainyms())\n",
    "    print ('Antonyms:', lemma.antonyms())\n",
    "    print ('Derivationally related forms:', lemma.derivationally_related_forms())"
   ]
  },
  {
   "cell_type": "markdown",
   "metadata": {},
   "source": [
    "## MultiWordNet"
   ]
  },
  {
   "cell_type": "markdown",
   "metadata": {},
   "source": [
    "http://compling.hss.ntu.edu.sg/omw/ <br>\n",
    "Условные обозначения языков: коды ISO-639"
   ]
  },
  {
   "cell_type": "code",
   "execution_count": 13,
   "metadata": {
    "collapsed": false
   },
   "outputs": [
    {
     "data": {
      "text/plain": [
       "(['als',\n",
       "  'arb',\n",
       "  'bul',\n",
       "  'cat',\n",
       "  'cmn',\n",
       "  'dan',\n",
       "  'ell',\n",
       "  'eng',\n",
       "  'eus',\n",
       "  'fas',\n",
       "  'fin',\n",
       "  'fra',\n",
       "  'glg',\n",
       "  'heb',\n",
       "  'hrv',\n",
       "  'ind',\n",
       "  'ita',\n",
       "  'jpn',\n",
       "  'nno',\n",
       "  'nob',\n",
       "  'pol',\n",
       "  'por',\n",
       "  'qcn',\n",
       "  'slv',\n",
       "  'spa',\n",
       "  'swe',\n",
       "  'tha',\n",
       "  'zsm'],\n",
       " 28)"
      ]
     },
     "execution_count": 13,
     "metadata": {},
     "output_type": "execute_result"
    }
   ],
   "source": [
    "sorted(wn.langs()), len(wn.langs())"
   ]
  },
  {
   "cell_type": "code",
   "execution_count": 17,
   "metadata": {
    "collapsed": false
   },
   "outputs": [
    {
     "name": "stdout",
     "output_type": "stream",
     "text": [
      "['canis_familiaris', 'chien']\n",
      "['Canis_lupus_familiaris', 'domaći_pas', 'pas']\n",
      "['イヌ', 'ドッグ', '洋犬', '犬', '飼犬', '飼い犬']\n"
     ]
    }
   ],
   "source": [
    "print (dog_exemplar.lemma_names('fra'))\n",
    "print (dog_exemplar.lemma_names('hrv'))\n",
    "print (dog_exemplar.lemma_names('jpn'))"
   ]
  },
  {
   "cell_type": "markdown",
   "metadata": {
    "collapsed": true
   },
   "source": [
    "# FrameNet"
   ]
  },
  {
   "cell_type": "markdown",
   "metadata": {},
   "source": [
    "Главный сайт проекта: https://framenet2.icsi.berkeley.edu"
   ]
  },
  {
   "cell_type": "code",
   "execution_count": 2,
   "metadata": {
    "collapsed": false
   },
   "outputs": [
    {
     "name": "stdout",
     "output_type": "stream",
     "text": [
      "[nltk_data] Downloading package framenet_v17 to\n",
      "[nltk_data]     C:\\Users\\ДР\\AppData\\Roaming\\nltk_data...\n",
      "[nltk_data]   Package framenet_v17 is already up-to-date!\n"
     ]
    },
    {
     "data": {
      "text/plain": [
       "True"
      ]
     },
     "execution_count": 2,
     "metadata": {},
     "output_type": "execute_result"
    }
   ],
   "source": [
    "import nltk\n",
    "nltk.download('framenet_v17')"
   ]
  },
  {
   "cell_type": "code",
   "execution_count": 3,
   "metadata": {
    "collapsed": true
   },
   "outputs": [],
   "source": [
    "from nltk.corpus import framenet as fn"
   ]
  },
  {
   "cell_type": "markdown",
   "metadata": {},
   "source": [
    "Все фреймы:"
   ]
  },
  {
   "cell_type": "code",
   "execution_count": 4,
   "metadata": {
    "collapsed": false
   },
   "outputs": [
    {
     "name": "stdout",
     "output_type": "stream",
     "text": [
      "[<frame ID=2031 name=Abandonment>, <frame ID=262 name=Abounding_with>, ...] 1221\n"
     ]
    }
   ],
   "source": [
    "print (fn.frames(), len(fn.frames()))"
   ]
  },
  {
   "cell_type": "markdown",
   "metadata": {},
   "source": [
    "Все фреймы, в которых есть подстрока 'event':"
   ]
  },
  {
   "cell_type": "code",
   "execution_count": 11,
   "metadata": {
    "collapsed": false
   },
   "outputs": [
    {
     "name": "stdout",
     "output_type": "stream",
     "text": [
      "Change_event_duration\n",
      "Change_event_time\n",
      "Desirable_event\n",
      "Historic_event\n",
      "Locale_by_event\n",
      "Prevent_or_allow_possession\n",
      "Preventing_or_letting\n",
      "Required_event\n",
      "Social_event\n",
      "Social_event_collective\n",
      "Social_event_individuals\n"
     ]
    }
   ],
   "source": [
    "for frame in fn.frames('event'):\n",
    "    print (frame.name)"
   ]
  },
  {
   "cell_type": "markdown",
   "metadata": {},
   "source": [
    "Все слова:"
   ]
  },
  {
   "cell_type": "code",
   "execution_count": 5,
   "metadata": {
    "collapsed": false
   },
   "outputs": [
    {
     "name": "stdout",
     "output_type": "stream",
     "text": [
      "[<lu ID=16601 name=(can't) help.v>, <lu ID=14632 name=(in/out of) line.n>, ...] 13572\n"
     ]
    }
   ],
   "source": [
    "print (fn.lus(), len(fn.lus()))"
   ]
  },
  {
   "cell_type": "markdown",
   "metadata": {},
   "source": [
    "Каждый фрейм - это словарь. Заглянем внутрь фрейма Historic_event:"
   ]
  },
  {
   "cell_type": "code",
   "execution_count": 12,
   "metadata": {
    "collapsed": false
   },
   "outputs": [
    {
     "name": "stdout",
     "output_type": "stream",
     "text": [
      "frame (1908): Historic_event\n",
      "\n",
      "[URL] https://framenet2.icsi.berkeley.edu/fnReports/data/frame/Historic_event.xml\n",
      "\n",
      "[definition]\n",
      "  In the course of history, an Event or Entity is taken to have\n",
      "  importance or significance.  'Throughout the campaign activists\n",
      "  have made financial history as one by one major corporations have\n",
      "  yielded to protester power'  'The conference was historic for\n",
      "  Atlanta's growth as a city.'  'Many of the historic sites offer\n",
      "  additional outdoor recreation activities.'  'The James River is\n",
      "  arguably the most historic river in the country and one of the\n",
      "  most important rivers in the Southeast.'  'Take in the history,\n",
      "  the sawdust-covered floors, and the legendary backroom where the\n",
      "  ale flowed during Prohibition.'\n",
      "\n",
      "[semTypes] 0 semantic types\n",
      "\n",
      "[frameRelations] 3 frame relations\n",
      "  <Parent=Eventive_affecting -- Inheritance -> Child=Historic_event>\n",
      "  <Complex=Individual_history -- Subframe -> Component=Historic_event>\n",
      "  <Parent=Importance -- Using -> Child=Historic_event>\n",
      "\n",
      "[lexUnit] 3 lexical units\n",
      "  historic [entity].a (15178), historic.a (14182), make\n",
      "  history.idio (14183)\n",
      "\n",
      "\n",
      "[FE] 8 frame elements\n",
      "            Core: Entity (11421), Event (11417)\n",
      "      Peripheral: Domain (11427), Manner (11422), Place (11418), Time (11419)\n",
      "  Extra-Thematic: Degree (13000), Explanation (11420)\n",
      "\n",
      "[FEcoreSets] 1 frame element core sets\n",
      "  Event, Entity\n",
      "\n"
     ]
    }
   ],
   "source": [
    "frame_HistEvent = fn.frame('Historic_event')\n",
    "print (frame_HistEvent)"
   ]
  },
  {
   "cell_type": "markdown",
   "metadata": {},
   "source": [
    "FE и lexUnit - тоже словари:"
   ]
  },
  {
   "cell_type": "code",
   "execution_count": 19,
   "metadata": {
    "collapsed": false
   },
   "outputs": [
    {
     "name": "stdout",
     "output_type": "stream",
     "text": [
      "[Event] frame element (11417): Event\n",
      "    of Historic_event(1908)\n",
      "[definition]\n",
      "  This FE identifies the event which occurs to create history.\n",
      "[abbrev] Evnt\n",
      "[coreType] Core\n",
      "[requiresFE] <None>\n",
      "[excludesFE] <None>\n",
      "[semType] \n",
      "  State_of_affairs(177)\n",
      "\n",
      "[Place] frame element (11418): Place\n",
      "    of Historic_event(1908)\n",
      "[definition]\n",
      "  This FE identifies where the event takes place.\n",
      "[abbrev] Place\n",
      "[coreType] Peripheral\n",
      "[requiresFE] <None>\n",
      "[excludesFE] <None>\n",
      "[semType] \n",
      "  Locative_relation(182)\n",
      "\n",
      "[Time] frame element (11419): Time\n",
      "    of Historic_event(1908)\n",
      "[definition]\n",
      "  This FE identifies the time when the event occurs.\n",
      "[abbrev] Time\n",
      "[coreType] Peripheral\n",
      "[requiresFE] <None>\n",
      "[excludesFE] <None>\n",
      "[semType] \n",
      "  Time(141)\n",
      "\n",
      "[Explanation] frame element (11420): Explanation\n",
      "    of Historic_event(1908)\n",
      "[definition]\n",
      "  This FE identifies the Explanation for which an event occurs.\n",
      "[abbrev] Exp\n",
      "[coreType] Extra-Thematic\n",
      "[requiresFE] <None>\n",
      "[excludesFE] <None>\n",
      "[semType] \n",
      "  State_of_affairs(177)\n",
      "\n",
      "[Entity] frame element (11421): Entity\n",
      "    of Historic_event(1908)\n",
      "[definition]\n",
      "  This FE identifies the entity, concrete or abstract.\n",
      "[abbrev] Ent\n",
      "[coreType] Core\n",
      "[requiresFE] <None>\n",
      "[excludesFE] <None>\n",
      "[semType] <None>\n",
      "\n",
      "[Manner] frame element (11422): Manner\n",
      "    of Historic_event(1908)\n",
      "[definition]\n",
      "  Any description of the event which is not covered by more\n",
      "  specific FEs, including secondary effects (quietly, loudly) and\n",
      "  general descriptions comparing events (the same way).\n",
      "[abbrev] Man\n",
      "[coreType] Peripheral\n",
      "[requiresFE] <None>\n",
      "[excludesFE] <None>\n",
      "[semType] <None>\n",
      "\n",
      "[Domain] frame element (11427): Domain\n",
      "    of Historic_event(1908)\n",
      "[definition]\n",
      "  The Domain is (a characterization of) the type of event that is\n",
      "  part of the Event's history.  'Throughout the campaign activists\n",
      "  have made financial history as one by one major corporations have\n",
      "  yielded to protester power'\n",
      "[abbrev] dom\n",
      "[coreType] Peripheral\n",
      "[requiresFE] <None>\n",
      "[excludesFE] <None>\n",
      "[semType] <None>\n",
      "\n",
      "[Degree] frame element (13000): Degree\n",
      "    of Historic_event(1908)\n",
      "[definition]\n",
      "  This frame element selects some gradable attribute and modifies\n",
      "  the expected value for it.\n",
      "[abbrev] Deg\n",
      "[coreType] Extra-Thematic\n",
      "[requiresFE] <None>\n",
      "[excludesFE] <None>\n",
      "[semType] <None>\n",
      "\n",
      "\n"
     ]
    }
   ],
   "source": [
    "print (frame_HistEvent.FE)"
   ]
  },
  {
   "cell_type": "markdown",
   "metadata": {},
   "source": [
    "В словарях лексических юнитов скрываются размеченные примеры:"
   ]
  },
  {
   "cell_type": "code",
   "execution_count": 25,
   "metadata": {
    "collapsed": false
   },
   "outputs": [
    {
     "name": "stdout",
     "output_type": "stream",
     "text": [
      "lexical unit (14182): historic.a\n",
      "\n",
      "[definition]\n",
      "  COD: famous or important in history, or potentially so.\n",
      "\n",
      "[frame] Historic_event(1908)\n",
      "\n",
      "[POS] A\n",
      "\n",
      "[status] Finished_Initial\n",
      "\n",
      "[lexemes] historic/A\n",
      "\n",
      "[semTypes] 0 semantic types\n",
      "\n",
      "[URL] https://framenet2.icsi.berkeley.edu/fnReports/data/lu/lu14182.xml\n",
      "\n",
      "[subCorpus] 8 subcorpora\n",
      "  01-T-Wmoment,victory,opportunity-(1), 03-NP-VP-T-(1),\n",
      "  04-T-NP-(1), 05-AVP-T-(1), 06-T-AVP-(1), manually-added,\n",
      "  other-matched-(1), other-unmatched-(1)\n",
      "\n",
      "[exemplars] 17 sentences across all subcorpora\n",
      "\n"
     ]
    }
   ],
   "source": [
    "historic = frame_HistEvent.lexUnit['historic.a']\n",
    "# то же самое (по ID):\n",
    "# historic = fn.lu(14182))\n",
    "print (historic)"
   ]
  },
  {
   "cell_type": "code",
   "execution_count": 31,
   "metadata": {
    "collapsed": false
   },
   "outputs": [
    {
     "name": "stdout",
     "output_type": "stream",
     "text": [
      "exemplar sentence (1454496):\n",
      "[corpID] 111\n",
      "[docID] 421\n",
      "[paragNo] 7518\n",
      "[sentNo] 1\n",
      "[aPos] 28944963\n",
      "\n",
      "[LU] (14182) historic.a in Historic_event\n",
      "\n",
      "[frame] (1908) Historic_event\n",
      "\n",
      "[annotationSet] 2 annotation sets\n",
      "\n",
      "[POS] 27 tags\n",
      "\n",
      "[POS_tagset] PENN\n",
      "\n",
      "[GF] 2 relations\n",
      "\n",
      "[PT] 2 phrases\n",
      "\n",
      "[text] + [Target] + [FE]\n",
      "\n",
      "Researchers expected to find six out of ten people could recall \n",
      "                                                                \n",
      "                                                                \n",
      " \n",
      "Lady Thatcher 's historic resignation moment in vivid detail by \n",
      "---------------- ******** ------------------\n",
      "Entity                    Event             \n",
      " \n",
      "retaining a long-lasting ` flashbulb \" memory .\n",
      " \n",
      " \n",
      " \n",
      "\n",
      "\n"
     ]
    }
   ],
   "source": [
    "print (historic.exemplars[0])"
   ]
  },
  {
   "cell_type": "markdown",
   "metadata": {},
   "source": [
    "## Практическое задание"
   ]
  },
  {
   "cell_type": "markdown",
   "metadata": {},
   "source": [
    "Найдите все фреймы, в число ядерных (Core) элементов которых входит участник с ролью начальной точки перемещения (Source)."
   ]
  }
 ],
 "metadata": {
  "kernelspec": {
   "display_name": "Python 3",
   "language": "python",
   "name": "python3"
  },
  "language_info": {
   "codemirror_mode": {
    "name": "ipython",
    "version": 3
   },
   "file_extension": ".py",
   "mimetype": "text/x-python",
   "name": "python",
   "nbconvert_exporter": "python",
   "pygments_lexer": "ipython3",
   "version": "3.6.0"
  }
 },
 "nbformat": 4,
 "nbformat_minor": 2
}

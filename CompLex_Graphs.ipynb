{
 "cells": [
  {
   "cell_type": "markdown",
   "metadata": {},
   "source": [
    "## Графы, библиотека ```networkx```\n",
    "\n",
    "Модель, которая не только описывает элементы системы, но и фиксирует связи между ними, называется **графом** или **сетью**. В терминах графов может быть описана любая система, в которой можно выделить\n",
    "\n",
    "+ элементы (в графе они называются узлами = вершинами = nodes = vertices)\n",
    "+ связи между ними (они именуются рёбрами = связями = edges = relations).\n",
    "\n",
    "Граф -- это визуализация сложного объекта. Кроме того, граф — это математический объект, в котором мы можем довольно много всего посчитать, и таким образом установить разные закономерности, доказать гипотезу. Это называется **сетевым анализом**.\n",
    "\n",
    "Для того, чтобы превращать данные (любые формализованные данные) в граф, можно использовать библиотеку `networkx`. Вот ее [документация](https://networkx.github.io/documentation/latest/index.html). Это не единственная библиотека для работы с графами в питоне ([вот полный список](https://wiki.python.org/moin/PythonGraphLibraries)), но, кажется, самая простая и удобная."
   ]
  },
  {
   "cell_type": "code",
   "execution_count": null,
   "metadata": {},
   "outputs": [],
   "source": [
    "!pip install networkx"
   ]
  },
  {
   "cell_type": "code",
   "execution_count": 4,
   "metadata": {},
   "outputs": [],
   "source": [
    "import networkx as nx"
   ]
  },
  {
   "cell_type": "markdown",
   "metadata": {},
   "source": [
    "#### Создаем граф\n",
    "\n",
    "Мы можем пойти двумя путями, в зависимости от того, положения, в котором находимся. Первая ситуация: у нас есть какие-то данные, и нам нужно превратить их в граф. Тогда уместно создать сначала пустой объект графа и туда постепенно что-то добавлять."
   ]
  },
  {
   "cell_type": "code",
   "execution_count": 6,
   "metadata": {},
   "outputs": [],
   "source": [
    "G = nx.Graph() # пустой граф\n",
    "G.add_node(1) # добавляем один узел\n",
    "G.add_nodes_from([2 ,3, 4, 5, 6, 7, 8]) # добавляем несколько узлов сразу\n",
    "\n",
    "G.remove_node(2) # удаляем узел номер 2\n",
    "\n",
    "# То, как мы обозначаем узлы (1, 2, 3 ...) -- это их id. Но вообще-то мы можем приклеить к ним и человекопонятные ярлыки:\n",
    "G.add_node(1, label=\"node_1\")"
   ]
  },
  {
   "cell_type": "markdown",
   "metadata": {},
   "source": [
    "Теперь укажем, какие узлы связаны между собой рёбрами."
   ]
  },
  {
   "cell_type": "code",
   "execution_count": 7,
   "metadata": {},
   "outputs": [],
   "source": [
    "G.add_edge(1,2) # ребро между узлами 1 и 3\n",
    "G.add_edges_from([(1, 3), (1, 4), (1, 5), (4, 5), (3, 5), (5, 7)]) # сразу несколько рёбер\n",
    "\n",
    "G.remove_edge(5, 7) # удаляем ребро"
   ]
  },
  {
   "cell_type": "code",
   "execution_count": 8,
   "metadata": {},
   "outputs": [
    {
     "name": "stdout",
     "output_type": "stream",
     "text": [
      "узлы [1, 3, 4, 5, 6, 7, 8, 2]\n",
      "рёбра [(1, 2), (1, 3), (1, 4), (1, 5), (3, 5), (4, 5)]\n"
     ]
    }
   ],
   "source": [
    "print('узлы', G.nodes())\n",
    "print('рёбра', G.edges())"
   ]
  },
  {
   "cell_type": "code",
   "execution_count": 9,
   "metadata": {},
   "outputs": [
    {
     "data": {
      "text/plain": [
       "3"
      ]
     },
     "execution_count": 9,
     "metadata": {},
     "output_type": "execute_result"
    }
   ],
   "source": [
    "# сколько есть соседей у узла 5?\n",
    "G.degree(5)"
   ]
  },
  {
   "cell_type": "code",
   "execution_count": 10,
   "metadata": {},
   "outputs": [
    {
     "name": "stdout",
     "output_type": "stream",
     "text": [
      "1 4\n",
      "3 2\n",
      "4 2\n",
      "5 3\n",
      "6 0\n",
      "7 0\n",
      "8 0\n",
      "2 1\n"
     ]
    }
   ],
   "source": [
    "# узнаем число соседей (в терминах теории графов -- степень узла) каждого узла\n",
    "for node in G.nodes():\n",
    "    print (node, G.degree(node))"
   ]
  },
  {
   "cell_type": "markdown",
   "metadata": {},
   "source": [
    "Кроме того, что графы просто отражают связи между узлами, они могут включать и характер этой связи. Например, в теории графов выделяются специальные взвешенные графы, это такие, у которых между узлами не просто наличествует ребро, но у этого ребра ещё и есть вес. В реальности взвешенным графом, например, может быть граф персонажей какой-то пьесы, в котором мы учитываем не только то, что персонажи этой пьесы находятся вместе на сцене (ребро), но и сколько раз они вступают в диалог (вес ребра)."
   ]
  },
  {
   "cell_type": "code",
   "execution_count": 11,
   "metadata": {},
   "outputs": [],
   "source": [
    "# вес ребра можно добавить так:\n",
    "\n",
    "G.add_edge(1, 3, weight=4)"
   ]
  },
  {
   "cell_type": "markdown",
   "metadata": {},
   "source": [
    "Отдельно выделяюся специальные направленные графы, где мы фиксируем не просто наличие и вес связи, но и её направление. Скажем, граф переписки отражает направление связи, то есть, что именно X писал Y-ку, а не наоборот. Или, например, можно отражать направление лексических/грамматических переходов. Такой граф задаётся как специальный тип объекта:"
   ]
  },
  {
   "cell_type": "code",
   "execution_count": 12,
   "metadata": {},
   "outputs": [],
   "source": [
    "dg = nx.DiGraph()\n",
    "dg.add_weighted_edges_from([(1,4,0.5), (3,1,0.75)]) # от кого -- кому и вес ребра"
   ]
  },
  {
   "cell_type": "markdown",
   "metadata": {},
   "source": [
    "Итак, суммируем. Графы бывают:\n",
    "\n",
    "+ ориентированные и неориентированные (связи-стрелочки vs обычные связи)\n",
    "+ связные и несвязные (все узлы связаны vs есть узлы, которые оторваны от основного графа).\n",
    "+ взвешенные и невзвешенные (связи имеют некоторое числовое значение или нет)\n"
   ]
  },
  {
   "cell_type": "markdown",
   "metadata": {},
   "source": [
    "#### Сохраняем и подгружаем граф\n",
    "\n",
    "Когда граф построен, его можно сохранить в каком-нибудь специальном формате.\n",
    "\n",
    "+ csv-таблица узлов/ребер\n",
    "+ gml (Graph Modelling Language) — простейший текстовый формат записи графа\n",
    "+ graphml — основанный на XML формат для записи графов\n",
    "+ gexf (Graph Exchange XML Format) — таже основан на XML, позволяет описывать не только структуру и элементы графа, но и метаданные, иерархию, динамику — в общем, самый продвинутый формат.\n",
    "\n",
    "Чтобы сохранить граф в виде файла в формате .gexf, достаточно вот такого кода:"
   ]
  },
  {
   "cell_type": "code",
   "execution_count": 14,
   "metadata": {},
   "outputs": [],
   "source": [
    "nx.write_gexf(G, 'graph_file.gexf')"
   ]
  },
  {
   "cell_type": "markdown",
   "metadata": {},
   "source": [
    "Загрузить данные из этого формата можно тоже одной строчкой:"
   ]
  },
  {
   "cell_type": "code",
   "execution_count": 15,
   "metadata": {},
   "outputs": [],
   "source": [
    "G1 = nx.read_gexf('graph_file.gexf')"
   ]
  },
  {
   "cell_type": "markdown",
   "metadata": {},
   "source": [
    "#### Визуализация\n",
    "\n",
    "Визуализируем граф с помощью уже знакомого нам `matplotlib` (но есть и [другие способы визуализации](https://networkx.github.io/documentation/networkx-2.2/reference/drawing.html) графов в питоне)."
   ]
  },
  {
   "cell_type": "code",
   "execution_count": 18,
   "metadata": {},
   "outputs": [
    {
     "data": {
      "image/png": "[encoded data removed]",
      "text/plain": [
       "<Figure size 432x288 with 1 Axes>"
      ]
     },
     "metadata": {},
     "output_type": "display_data"
    }
   ],
   "source": [
    "import matplotlib.pyplot as plt \n",
    "\n",
    "# для начала надо выбрать способ \"укладки\" графа: random_layout, shell_layout, spring_layout\n",
    "pos=nx.shell_layout(G)\n",
    "\n",
    "nx.draw_networkx_nodes(G, pos, node_color='red', node_size=10) \n",
    "nx.draw_networkx_edges(G, pos, edge_color='blue')\n",
    "nx.draw_networkx_labels(G, pos, font_size=20, font_family='Arial')\n",
    "plt.axis('off') \n",
    "plt.show()"
   ]
  },
  {
   "cell_type": "markdown",
   "metadata": {},
   "source": [
    "#### Сетевой анализ\n",
    "\n",
    "Что мы можем узнать про свой граф?"
   ]
  },
  {
   "cell_type": "code",
   "execution_count": null,
   "metadata": {},
   "outputs": [],
   "source": [
    "# Радиус графа, минимальный эксцентриситет среди всех вершин графа\n",
    "print(nx.radius(G))\n",
    "\n",
    "# Диаметр графа, самый длинный путь от одной вершины до другой\n",
    "print(nx.diameter(G))\n",
    "\n",
    "# число узлов и рёбер\n",
    "\n",
    "print(G.number_of_nodes())\n",
    "print(G.number_of_edges())\n",
    "\n",
    "# Плотность графа, отношение рёбер и узлов\n",
    "\n",
    "print(nx.density(G))\n",
    "\n",
    "# Коэффициент ассортативности (насколько вся сеть завязана на основных \"хабах\" = узлах с большим количеством связей):\n",
    "\n",
    "print(nx.degree_pearson_correlation_coefficient(G))"
   ]
  },
  {
   "cell_type": "markdown",
   "metadata": {},
   "source": [
    "+ **Радиус** — минимальный эксцентриситет среди всех вершин графа.\n",
    "\n",
    "+ **Диаметр** — самый длинный путь от одной вершины до другой.\n",
    "\n",
    "+ [**Связная компонента**](https://ru.wikipedia.org/wiki/%D0%9A%D0%BE%D0%BC%D0%BF%D0%BE%D0%BD%D0%B5%D0%BD%D1%82%D0%B0_%D1%81%D0%B2%D1%8F%D0%B7%D0%BD%D0%BE%D1%81%D1%82%D0%B8_%D0%B3%D1%80%D0%B0%D1%84%D0%B0) - узлы, связанные между собой рёбрами\n",
    "\n",
    "+ **Коэффициент ассортативности (assortativity coefficient)** определяет, с кем связаны узлы-хабы (с большим количеством связей): если с другими узлами-хабами, то значение коэффициента высокое, а если нет – низкое.\n",
    "\n",
    "+ **Плотность графа (density)** – отношение числа ребер к максимально возможному. В сообществах высокий коэффициент кластеризации и высокая плотность.\n",
    "\n",
    "+ **Степень, или мощность узла (degree)** – это количество его связей.\n",
    "\n",
    "+ **Взвешенная степень (weighed degree)** – это количество связей узла, разделенное на общее количество связей в графе.\n",
    "\n",
    "+ **Важность** узла можно определять разными способами:\n",
    "    + **degree centrality**: у кого больше связей, тот и важнее\n",
    "    + **closeness centrality**: чем центральнее узел (т.е. чем короче путь от него до всех остальных узлов), тем он важнее\n",
    "    + **betweenness centrality**: количество кратчайших путей, проходящих через узел\n",
    "    + **eigencentrality**: чем больше друзей у твоих друзей, тем ты важнее\n",
    "\n",
    "Все это можно посчитать с помощью `networkx`, вот [соответсветствующий раздел документации](https://networkx.github.io/documentation/networkx-2.2/reference/algorithms/centrality.html)."
   ]
  },
  {
   "cell_type": "code",
   "execution_count": 20,
   "metadata": {},
   "outputs": [
    {
     "name": "stdout",
     "output_type": "stream",
     "text": [
      "1\n",
      "5\n",
      "3\n",
      "4\n",
      "2\n",
      "6\n",
      "7\n",
      "8\n"
     ]
    }
   ],
   "source": [
    "# Центральность узлов (важность узлов)\n",
    "\n",
    "deg = nx.degree_centrality(G)\n",
    "for nodeid in sorted(deg, key=deg.get, reverse=True):\n",
    "    print(nodeid)"
   ]
  },
  {
   "cell_type": "code",
   "execution_count": 21,
   "metadata": {},
   "outputs": [
    {
     "name": "stdout",
     "output_type": "stream",
     "text": [
      "1\n",
      "5\n",
      "3\n",
      "4\n",
      "6\n",
      "7\n",
      "8\n",
      "2\n"
     ]
    }
   ],
   "source": [
    "b = nx.betweenness_centrality(G)\n",
    "for nodeid in sorted(b, key=b.get, reverse=True):\n",
    "    print(nodeid)"
   ]
  },
  {
   "cell_type": "code",
   "execution_count": 22,
   "metadata": {},
   "outputs": [
    {
     "name": "stdout",
     "output_type": "stream",
     "text": [
      "1\n",
      "5\n",
      "3\n",
      "4\n",
      "6\n",
      "7\n",
      "8\n",
      "2\n"
     ]
    }
   ],
   "source": [
    "e = nx.eigenvector_centrality(G)\n",
    "for nodeid in sorted(b, key=b.get, reverse=True):\n",
    "    print(nodeid)"
   ]
  },
  {
   "cell_type": "markdown",
   "metadata": {},
   "source": [
    "**Коэффициент кластеризации (clustering coefficient)** – степень взаимодействия между собой ближайших соседей узла, т.е. вероятность того, что ближайшие соседи узла будут связаны не только с ним, но и между собой."
   ]
  },
  {
   "cell_type": "code",
   "execution_count": 23,
   "metadata": {},
   "outputs": [
    {
     "name": "stdout",
     "output_type": "stream",
     "text": [
      "0.37499999999999994\n",
      "0.5454545454545454\n"
     ]
    }
   ],
   "source": [
    "print(nx.average_clustering(G))\n",
    "print(nx.transitivity(G)) # транзитивен ли граф, есть ли в нём треугольники?"
   ]
  },
  {
   "cell_type": "markdown",
   "metadata": {},
   "source": [
    "**Модулярность (modularity)** показывает, насколько при заданном разбиении графа на группы плотность связей внутри группы больше плотности связей между группами. С помощью этой метрики граф разбивается на сообщества.\n",
    "\n",
    "**Сообщество** – это плотный подграф, где все (или почти все) узлы связаны между собой."
   ]
  },
  {
   "cell_type": "code",
   "execution_count": 24,
   "metadata": {},
   "outputs": [],
   "source": [
    "from networkx.algorithms import community"
   ]
  },
  {
   "cell_type": "markdown",
   "metadata": {},
   "source": [
    "[Вот тут](https://networkx.github.io/documentation/latest/reference/algorithms/community.html) можно найти алгоритмы для выделения сообществ."
   ]
  },
  {
   "cell_type": "code",
   "execution_count": 33,
   "metadata": {},
   "outputs": [
    {
     "name": "stdout",
     "output_type": "stream",
     "text": [
      "top level communities: [[1, 3, 4, 5], [2], [6], [7], [8]]\n",
      "next level communities: [[1, 4, 5], [2], [3], [6], [7], [8]]\n"
     ]
    }
   ],
   "source": [
    "communities_generator = community.girvan_newman(G)\n",
    "top_level_communities = next(communities_generator)\n",
    "next_level_communities = next(communities_generator)\n",
    "print(\"top level communities:\", sorted(map(sorted, top_level_communities)))\n",
    "print(\"next level communities:\", sorted(map(sorted, next_level_communities)))"
   ]
  },
  {
   "cell_type": "markdown",
   "metadata": {},
   "source": [
    "#### Пример\n",
    "\n",
    "В качестве примера, в том числе, визуализации графа, даю ссылку на [работу Ильи Макарчука](https://colab.research.google.com/drive/1mxPMnEWB0F6A5LnpKRD5rg-tecyv3zIp#scrollTo=-FM1jXb_9-yr). Просьба не распространять."
   ]
  },
  {
   "cell_type": "markdown",
   "metadata": {},
   "source": [
    "#### Gephi\n",
    "\n",
    "Программа Gephi умеет делать вещи намного красивее, чем `matplotlib`, так что можно создать граф с помощью питона, а потом загрузить его в Gephi и считать статистику по графу и визуализировать его уже там. Или можно задать граф в csv-файлах (нужны отдельные файлы для узлов и для рёбер) и отредактировать, разбить на сообщества в Gephi. \n",
    "\n",
    "Хорошие тьюториалы по программе:\n",
    "\n",
    "- https://www.youtube.com/watch?v=2FqM4gKeNO4\n",
    "\n",
    "- https://www.youtube.com/watch?v=iQk1VOSMsbQ"
   ]
  },
  {
   "cell_type": "markdown",
   "metadata": {},
   "source": [
    "#### Статьи с использованием графов\n",
    "\n",
    "Библиография по лингвистическим (+ когнитивным) статьям, где используются графы:\n",
    "\n",
    "https://cqllab.upc.edu/biblio/networks/\n",
    "\n",
    "Обзор одной из этих статей может стать темой вашего эссе. "
   ]
  },
  {
   "cell_type": "markdown",
   "metadata": {},
   "source": [
    "## Задание 2 \n",
    "\n",
    "**Дедлайн: 12 мая 23.59**\n",
    "\n",
    "**Стоимость: 2 балла от итоговой оценки**\n",
    "\n",
    "Работы присылайте на daria.ryzhova@mail.ru и daschapopowa@gmail.com\n",
    "\n",
    "Постройте взвешенный граф, узлами которого будут все гипонимы синсета X (X - фрагмент ворднета, в котором не меньше 30 синсетов), а ребра между ними будут отражать частоту колексификации, т.е. будут устанавливаться в том случае, если хотя бы в одном языке из MultiWordNet найдется слово, которое относится к обоим синсетам; толщина ребра должна отражать количество таких слов. (Иными словами, получится граф, аналогичный графам в CLICS, но на другом материале). \n",
    "\n",
    "\n",
    "| баллы        | задачи          |\n",
    "| ------------- |-------------| \n",
    "| 2| извлечены гипонимы синсета X, X - фрагмент ворднета, в котором не меньше 30 синсетов| \n",
    "| 2| построен граф, где узлы -- гипонимы синсета X, а рёбра отражают колексификацию узлов|   \n",
    "| 1| толщина ребра отражает частоту колексификации|   \n",
    "| 0.5       | сколько получилось связных компонент?         |\n",
    "| 1        | определён коэффициент ассортативности и плотность графа          |\n",
    "| 2        | как распределились (взвешенные) степени узлов? какие узлы оказались центральными (попробуйте несколько метрик, например, degree centrality и eigencentrality)? прокомментируйте результаты           |\n",
    "| 1.5       | разбейте граф на сообщества (поиграйте с несколькими алгоритмами) и прокомментируйте результаты         |\n",
    "| + 1 бонусный балл       | в качестве X, взят синсет ‘travel.v.01’ (обратите внимание, что он большой, 123 гипонима)        |"
   ]
  }
 ],
 "metadata": {
  "kernelspec": {
   "display_name": "Python 3",
   "language": "python",
   "name": "python3"
  },
  "language_info": {
   "codemirror_mode": {
    "name": "ipython",
    "version": 3
   },
   "file_extension": ".py",
   "mimetype": "text/x-python",
   "name": "python",
   "nbconvert_exporter": "python",
   "pygments_lexer": "ipython3",
   "version": "3.6.5"
  }
 },
 "nbformat": 4,
 "nbformat_minor": 2
}
